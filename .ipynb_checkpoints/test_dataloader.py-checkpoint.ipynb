{
 "cells": [
  {
   "cell_type": "code",
   "execution_count": 87,
   "id": "95761c3b",
   "metadata": {},
   "outputs": [],
   "source": [
    "# the sample code in pytorch example combines dataloader and datasets in the same part.\n",
    "# whereas in asteroid x-umx code, they are separated, \n",
    "# it is good to separated when there are more than one dataset are trained on.\n",
    "\n",
    "from pathlib import Path\n",
    "import torch.utils.data\n",
    "import random\n",
    "import torch\n",
    "import tqdm\n",
    "import soundfile as sf\n",
    "import os\n",
    "import pandas as pd\n",
    "# import musedb\n",
    "\n",
    "class MS_21Dataset(torch.utils.data.Dataset):\n",
    "    \"\"\"MS_21 music separation dataset\n",
    "\n",
    "    The dataset consists of 150 full lengths music tracks (~10h duration) of\n",
    "    different genres along with their raw multitracks:\n",
    "    \n",
    "\n",
    "    This dataset asssumes music raw multi-tracks in (sub)folders where each folder\n",
    "    has a various number of sources. \n",
    "    A linear mix is performed on the fly by summing up the sources according to \n",
    "    the grouping information in the .csv file.\n",
    "    In order to be compatible to MUSDB_18 dataset, one can utilize the grouping information\n",
    "    to generate the traditional four stems:\n",
    "        'drums', 'vocals', 'bass', 'other'\n",
    "    \n",
    "\n",
    "    Folder Structure:\n",
    "        >>> #train/1/lead_vocals.wav ------------|\n",
    "        >>> #train/1/backing_vocals.wav ---------|\n",
    "        >>> #train/1/drums.wav ---------------+--> input (mix),\n",
    "        >>> #train/1/bass.wav -------------------|\n",
    "        >>> #train/1/accordin.wav ---------------|\n",
    "        >>> #train/1/bell.wav -------------------/\n",
    "\n",
    "        >>> #train/1/lead_vocals.wav ------------> output[target]\n",
    "\n",
    "    Args:\n",
    "        root (str): Root path of dataset\n",
    "        sources (:obj:`list` of :obj:`str`, optional): List of source names\n",
    "            that composes the mixture.\n",
    "            Defaults to MUSDB18 4 stem scenario: `vocals`, `drums`, `bass`, `other`.\n",
    "        targets (list or None, optional): List of source names to be used as\n",
    "            targets. If None, a dict with the 4 stems is returned.\n",
    "             If e.g [`vocals`, `drums`], a tensor with stacked `vocals` and\n",
    "             `drums` is returned instead of a dict. Defaults to None.\n",
    "        suffix (str, optional): Filename suffix, defaults to `.wav`.\n",
    "        split (str, optional): Dataset subfolder, defaults to `train`.\n",
    "        subset (:obj:`list` of :obj:`str`, optional): Selects a specific of\n",
    "            list of tracks to be loaded, defaults to `None` (loads all tracks).\n",
    "        segment (float, optional): Duration of segments in seconds,\n",
    "            defaults to ``None`` which loads the full-length audio tracks.\n",
    "        samples_per_track (int, optional):\n",
    "            Number of samples yielded from each track, can be used to increase\n",
    "            dataset size, defaults to `1`.\n",
    "        random_segments (boolean, optional): Enables random offset for track segments.\n",
    "        random_track_mix boolean: enables mixing of random sources from\n",
    "            different tracks to assemble mix.\n",
    "        source_augmentations (:obj:`list` of :obj:`callable`): list of augmentation\n",
    "            function names, defaults to no-op augmentations (input = output)\n",
    "        sample_rate (int, optional): Samplerate of files in dataset.\n",
    "\n",
    "    Attributes:\n",
    "        root (str): Root path of dataset\n",
    "        sources (:obj:`list` of :obj:`str`, optional): List of source names.\n",
    "            Defaults to MUSDB18 4 stem scenario: `vocals`, `drums`, `bass`, `other`.\n",
    "        suffix (str, optional): Filename suffix, defaults to `.wav`.\n",
    "        split (str, optional): Dataset subfolder, defaults to `train`.\n",
    "        subset (:obj:`list` of :obj:`str`, optional): Selects a specific of\n",
    "            list of tracks to be loaded, defaults to `None` (loads all tracks).\n",
    "        segment (float, optional): Duration of segments in seconds,\n",
    "            defaults to ``None`` which loads the full-length audio tracks.\n",
    "        samples_per_track (int, optional):\n",
    "            Number of samples yielded from each track, can be used to increase\n",
    "            dataset size, defaults to `1`.\n",
    "        random_segments (boolean, optional): Enables random offset for track segments.\n",
    "        random_track_mix boolean: enables mixing of random sources from\n",
    "            different tracks to assemble mix.\n",
    "        source_augmentations (:obj:`list` of :obj:`callable`): list of augmentation\n",
    "            function names, defaults to no-op augmentations (input = output)\n",
    "        sample_rate (int, optional): Samplerate of files in dataset.\n",
    "        tracks (:obj:`list` of :obj:`Dict`): List of track metadata\n",
    "\n",
    "    References\n",
    "        \"The 2018 Signal Separation Evaluation Campaign\" Stoter et al. 2018.\n",
    "    \"\"\"\n",
    "\n",
    "    dataset_name = \"MS_21\"\n",
    "\n",
    "    def __init__(\n",
    "        self,\n",
    "        root,\n",
    "        csv_file_path,\n",
    "        grouping_info = {'percussion':['Drum_Kick','Drum_Snare','Drum_HiHat','Drum_Cymbals','Drum_Overheads','Drum_Tom','Drum_Room','Percussion'\n",
    "],'vocals':['Lead_Vocal','Backing_Vocal'],'bass':'Bass','other':['Acoustic_Guitar','Electric_Guitar','Piano','Electric_Piano','Brass','String','WoodWind','Other'\n",
    "]}, # default traditional four stems\n",
    "        sources=[\"vocals\", \"bass\", \"drums\", \"other\"],\n",
    "        targets=None,\n",
    "        suffix=\".wav\",\n",
    "        split=\"\",\n",
    "        subset=None,\n",
    "        segment=None,\n",
    "        samples_per_track=1,\n",
    "        random_segments=False,\n",
    "        random_track_mix=False,\n",
    "        source_augmentations=lambda audio: audio,\n",
    "        sample_rate=44100,\n",
    "    ):\n",
    "\n",
    "        self.root = Path(root).expanduser()\n",
    "        self.csv_info = pd.read_csv(csv_file_path)\n",
    "        \n",
    "        self.grouping_info = grouping_info\n",
    "        self.split = split\n",
    "        self.sample_rate = sample_rate\n",
    "        self.segment = segment\n",
    "        self.random_track_mix = random_track_mix\n",
    "        self.random_segments = random_segments\n",
    "        self.source_augmentations = source_augmentations\n",
    "        self.sources = sources\n",
    "        self.targets = targets\n",
    "        self.suffix = suffix\n",
    "        self.subset = subset\n",
    "        self.samples_per_track = samples_per_track\n",
    "        self.tracks = list(self.get_tracks())\n",
    "        #print(self.tracks)\n",
    "        if not self.tracks:\n",
    "            raise RuntimeError(\"No tracks found.\")\n",
    "        self.__getitem__(index = 1)\n",
    "\n",
    "    def __getitem__(self, index):\n",
    "        # create a dict for storing stem grouping rule\n",
    "        \n",
    "        \n",
    "        \n",
    "        # assemble the mixture of target and interferers\n",
    "        audio_sources = {}\n",
    "\n",
    "        # get track_id\n",
    "        track_id = index // self.samples_per_track\n",
    "        #print(track_id)\n",
    "        \n",
    "        \n",
    "        if self.random_segments:\n",
    "            start = random.uniform(0, self.tracks[track_id][\"min_duration\"] - self.segment)\n",
    "        else:\n",
    "            start = 0\n",
    "\n",
    "        # create sources based on multitracks\n",
    "        for source in self.sources:\n",
    "            # optionally select a random track for each source\n",
    "            if self.random_track_mix:\n",
    "                # load a different track\n",
    "                track_id = random.choice(range(len(self.tracks)))\n",
    "                if self.random_segments:\n",
    "                    start = random.uniform(0, self.tracks[track_id][\"min_duration\"] - self.segment)\n",
    "\n",
    "            # loads the full track duration\n",
    "            start_sample = int(start * self.sample_rate)\n",
    "            # check if dur is none\n",
    "            if self.segment:\n",
    "                # stop in soundfile is calc in samples, not seconds\n",
    "                stop_sample = start_sample + int(self.segment * self.sample_rate)\n",
    "            else:\n",
    "                # set to None for reading complete file\n",
    "                stop_sample = None\n",
    "\n",
    "            # load actual audio\n",
    "#             audio, _ = sf.read(\n",
    "#                 Path(self.tracks[track_id][\"path\"] / source).with_suffix(self.suffix),\n",
    "#                 always_2d=True,\n",
    "#                 start=start_sample,\n",
    "#                 stop=stop_sample,\n",
    "#             )\n",
    "            # load multitracks and be ready to do linear mix\n",
    "            for i in self.grouping_info:\n",
    "                print(i) # get source names\n",
    "                stem_tracks = []\n",
    "                for j in self.grouping_info[i]:\n",
    "                    # get all multitrack filename within one source\n",
    "                    for m in j:\n",
    "                        print(m)\n",
    "                        stem_tracks.append(self.csv_info.iloc[track_id][m])\n",
    "                    \n",
    "                # apply linear mix within one source (stem) later can intergrate with data augmentation\n",
    "                # first load one multitrack\n",
    "                for k in stem_tracks:\n",
    "                    audio,_ = sf.read(\n",
    "                        Path(self.tracks[track_id]['path'] / k),\n",
    "                    always_2d=True,\n",
    "                    start=start_sample,\n",
    "                    stop=stop_sample,\n",
    "                    )\n",
    "                    # convert to torch tensor\n",
    "                    audio = torch.tensor(audio.T, dtype=torch.float)\n",
    "\n",
    "                    # apply multitrack-wise augmentations\n",
    "                    # audio = self.multitrack_augmentation(audio)\n",
    "                    source_multitrack[k] = audio\n",
    "                   \n",
    "                # apply linear mix over all multitracks within one source index=0\n",
    "                source_mix = torch.stack(list(source_multitrack.values())).sum(0)\n",
    "                audio_sources[i] = source_mix\n",
    "                # apply source-wise augmentations\n",
    "                # source_mix = self.source_augmentations(source_mix)\n",
    "            \n",
    "            audio_mix = torch.stack(list(audio_sources.values())).sum(0)\n",
    "            if self.targets:\n",
    "                audio_sources = torch.stack(\n",
    "                    [wav for src, wav in audio_sources.items() if src in self.targets], dim=0\n",
    "            )\n",
    "        # audio_mix a mixture over the sources, audio_sources is a concatenation of all sources\n",
    "        return audio_mix, audio_sources\n",
    "\n",
    "    def __len__(self):\n",
    "        return len(self.tracks) * self.samples_per_track\n",
    "\n",
    "    def get_tracks(self):\n",
    "        \"\"\"Loads input and output tracks\"\"\"\n",
    "        \"\"\"load tracks that contain all the required sources tracks\"\"\"\n",
    "        p = Path(self.root, self.split) # train and test folder\n",
    "        # p = Path(self.root)\n",
    "        \n",
    "        for track_path in tqdm.tqdm(p.iterdir()):\n",
    "            #print(track_path)\n",
    "            if track_path.is_dir():\n",
    "                if self.subset and track_path.stem not in self.subset:\n",
    "                    # skip this track\n",
    "                    continue\n",
    "\n",
    "                \n",
    "                # source_paths = [track_path / (s + self.suffix) for s in self.sources] # 固定命名\n",
    "                \n",
    "                multitrack_paths = []\n",
    "                for s in os.listdir(track_path):\n",
    "                    if s.split('.')[-1]=='wav' and s.split('.')[0]!='':\n",
    "                        multitrack_paths.append(track_path / s )\n",
    "                #print(len(multitrack_paths))\n",
    "                # 改成先读取所有wav文件，返回所有path\n",
    "                # 然后通过csv文件进行linear mix生成sources,直接读成tensor\n",
    "                if not all(sp.exists() for sp in multitrack_paths):\n",
    "                    print(\"Exclude track due to non-existing source\", track_path)\n",
    "                    continue\n",
    "\n",
    "                # get metadata\n",
    "                infos = list(map(sf.info, multitrack_paths))\n",
    "                if not all(i.samplerate == self.sample_rate for i in infos):\n",
    "                    print(\"Exclude track due to different sample rate \", track_path)\n",
    "                    continue\n",
    "\n",
    "                if self.segment is not None:\n",
    "                    # get minimum duration of track\n",
    "                    min_duration = min(i.duration for i in infos)\n",
    "                    if min_duration > self.segment:\n",
    "                        yield ({\"path\": track_path, \"min_duration\": min_duration})\n",
    "                else:\n",
    "                    yield ({\"path\": track_path, \"min_duration\": None})\n",
    "\n",
    "    def get_infos(self):\n",
    "        \"\"\"Get dataset infos (for publishing models).\n",
    "\n",
    "        Returns:\n",
    "            dict, dataset infos with keys `dataset`, `task` and `licences`.\n",
    "        \"\"\"\n",
    "        infos = dict()\n",
    "        infos[\"dataset\"] = self.dataset_name\n",
    "        infos[\"task\"] = \"enhancement\"\n",
    "        infos[\"licenses\"] = [musdb_license]\n",
    "        return infos\n",
    "\n",
    "\n",
    "musdb_license = dict()\n"
   ]
  },
  {
   "cell_type": "code",
   "execution_count": 88,
   "id": "65b75da4",
   "metadata": {
    "scrolled": true
   },
   "outputs": [
    {
     "name": "stderr",
     "output_type": "stream",
     "text": [
      "18it [00:00, 88.03it/s]"
     ]
    },
    {
     "name": "stdout",
     "output_type": "stream",
     "text": [
      "Exclude track due to different sample rate  E:\\unzip_multitrack\\4_Out_Of_10\n",
      "Exclude track due to different sample rate  E:\\unzip_multitrack\\All_American_Mutt\n"
     ]
    },
    {
     "name": "stderr",
     "output_type": "stream",
     "text": [
      "69it [00:00, 93.29it/s]"
     ]
    },
    {
     "name": "stdout",
     "output_type": "stream",
     "text": [
      "Exclude track due to different sample rate  E:\\unzip_multitrack\\Believer\n",
      "Exclude track due to different sample rate  E:\\unzip_multitrack\\Bright_Angel\n",
      "Exclude track due to different sample rate  E:\\unzip_multitrack\\Buildin'_It_Up\n"
     ]
    },
    {
     "name": "stderr",
     "output_type": "stream",
     "text": [
      "93it [00:00, 106.91it/s]"
     ]
    },
    {
     "name": "stdout",
     "output_type": "stream",
     "text": [
      "Exclude track due to different sample rate  E:\\unzip_multitrack\\By_My_Side\n",
      "Exclude track due to different sample rate  E:\\unzip_multitrack\\Carolina_In_The_Pines\n",
      "Exclude track due to different sample rate  E:\\unzip_multitrack\\Carousel_Ride\n"
     ]
    },
    {
     "name": "stderr",
     "output_type": "stream",
     "text": [
      "\r",
      "104it [00:01, 91.19it/s]"
     ]
    },
    {
     "name": "stdout",
     "output_type": "stream",
     "text": [
      "Exclude track due to different sample rate  E:\\unzip_multitrack\\Cog_In_The_Machine\n",
      "Exclude track due to different sample rate  E:\\unzip_multitrack\\Contact\n"
     ]
    },
    {
     "name": "stderr",
     "output_type": "stream",
     "text": [
      "125it [00:01, 93.26it/s]"
     ]
    },
    {
     "name": "stdout",
     "output_type": "stream",
     "text": [
      "Exclude track due to different sample rate  E:\\unzip_multitrack\\Daddy_D\n",
      "Exclude track due to different sample rate  E:\\unzip_multitrack\\Die_Young\n",
      "Exclude track due to different sample rate  E:\\unzip_multitrack\\Don't_Put_Me_On_Hold\n"
     ]
    },
    {
     "name": "stderr",
     "output_type": "stream",
     "text": [
      "159it [00:01, 102.04it/s]"
     ]
    },
    {
     "name": "stdout",
     "output_type": "stream",
     "text": [
      "Exclude track due to different sample rate  E:\\unzip_multitrack\\Encanto_Tropical\n"
     ]
    },
    {
     "name": "stderr",
     "output_type": "stream",
     "text": [
      "216it [00:02, 103.55it/s]"
     ]
    },
    {
     "name": "stdout",
     "output_type": "stream",
     "text": [
      "Exclude track due to different sample rate  E:\\unzip_multitrack\\Happy_Pills\n",
      "Exclude track due to different sample rate  E:\\unzip_multitrack\\Heart_Of_My_Home_Town\n",
      "Exclude track due to different sample rate  E:\\unzip_multitrack\\Hope_And_The_Sea\n"
     ]
    },
    {
     "name": "stderr",
     "output_type": "stream",
     "text": [
      "238it [00:02, 95.52it/s] "
     ]
    },
    {
     "name": "stdout",
     "output_type": "stream",
     "text": [
      "Exclude track due to different sample rate  E:\\unzip_multitrack\\Ja_Make_Ya_Dance\n",
      "Exclude track due to different sample rate  E:\\unzip_multitrack\\Joy_Ride\n",
      "Exclude track due to different sample rate  E:\\unzip_multitrack\\Kane_Guru\n"
     ]
    },
    {
     "name": "stderr",
     "output_type": "stream",
     "text": [
      "257it [00:02, 75.86it/s]"
     ]
    },
    {
     "name": "stdout",
     "output_type": "stream",
     "text": [
      "Exclude track due to different sample rate  E:\\unzip_multitrack\\Last_Night's_Gig\n",
      "Exclude track due to different sample rate  E:\\unzip_multitrack\\Like_You_Do\n",
      "Exclude track due to different sample rate  E:\\unzip_multitrack\\Little_Lighter\n",
      "Exclude track due to different sample rate  E:\\unzip_multitrack\\Living_In_The_City\n"
     ]
    },
    {
     "name": "stderr",
     "output_type": "stream",
     "text": [
      "276it [00:02, 80.70it/s]"
     ]
    },
    {
     "name": "stdout",
     "output_type": "stream",
     "text": [
      "Exclude track due to different sample rate  E:\\unzip_multitrack\\Lookin'_Tough_Feelin'_Good\n",
      "Exclude track due to different sample rate  E:\\unzip_multitrack\\Make_You_Dance\n",
      "Exclude track due to different sample rate  E:\\unzip_multitrack\\Me_And_My_Crew\n"
     ]
    },
    {
     "name": "stderr",
     "output_type": "stream",
     "text": [
      "296it [00:03, 81.83it/s]"
     ]
    },
    {
     "name": "stdout",
     "output_type": "stream",
     "text": [
      "Exclude track due to different sample rate  E:\\unzip_multitrack\\Must_Be_Voodoo\n",
      "Exclude track due to different sample rate  E:\\unzip_multitrack\\Nalim\n",
      "Exclude track due to different sample rate  E:\\unzip_multitrack\\Naturally\n",
      "Exclude track due to different sample rate  E:\\unzip_multitrack\\Not_Alone\n"
     ]
    },
    {
     "name": "stderr",
     "output_type": "stream",
     "text": [
      "325it [00:03, 86.64it/s]"
     ]
    },
    {
     "name": "stdout",
     "output_type": "stream",
     "text": [
      "Exclude track due to different sample rate  E:\\unzip_multitrack\\One_Time_Weekend\n",
      "Exclude track due to different sample rate  E:\\unzip_multitrack\\Passenger_Side\n",
      "Exclude track due to different sample rate  E:\\unzip_multitrack\\Piano_Solo_1\n"
     ]
    },
    {
     "name": "stderr",
     "output_type": "stream",
     "text": [
      "\r",
      "334it [00:03, 84.78it/s]"
     ]
    },
    {
     "name": "stdout",
     "output_type": "stream",
     "text": [
      "Exclude track due to different sample rate  E:\\unzip_multitrack\\Place_2_Be\n",
      "Exclude track due to different sample rate  E:\\unzip_multitrack\\Pure_Luxury\n"
     ]
    },
    {
     "name": "stderr",
     "output_type": "stream",
     "text": [
      "354it [00:03, 77.03it/s]"
     ]
    },
    {
     "name": "stdout",
     "output_type": "stream",
     "text": [
      "Exclude track due to different sample rate  E:\\unzip_multitrack\\Rescue_Me\n"
     ]
    },
    {
     "name": "stderr",
     "output_type": "stream",
     "text": [
      "387it [00:04, 69.11it/s]"
     ]
    },
    {
     "name": "stdout",
     "output_type": "stream",
     "text": [
      "Exclude track due to different sample rate  E:\\unzip_multitrack\\Santa_Fe\n",
      "Exclude track due to different sample rate  E:\\unzip_multitrack\\Scar\n",
      "Exclude track due to different sample rate  E:\\unzip_multitrack\\Seat_Back\n"
     ]
    },
    {
     "name": "stderr",
     "output_type": "stream",
     "text": [
      "406it [00:04, 77.25it/s]"
     ]
    },
    {
     "name": "stdout",
     "output_type": "stream",
     "text": [
      "Exclude track due to different sample rate  E:\\unzip_multitrack\\So_Hi._So_Lo\n",
      "Exclude track due to different sample rate  E:\\unzip_multitrack\\Spirit_Cold\n",
      "Exclude track due to different sample rate  E:\\unzip_multitrack\\String_Quartet\n"
     ]
    },
    {
     "name": "stderr",
     "output_type": "stream",
     "text": [
      "437it [00:05, 90.28it/s]"
     ]
    },
    {
     "name": "stdout",
     "output_type": "stream",
     "text": [
      "Exclude track due to different sample rate  E:\\unzip_multitrack\\Surrendering\n"
     ]
    },
    {
     "name": "stderr",
     "output_type": "stream",
     "text": [
      "\r",
      "448it [00:05, 94.53it/s]"
     ]
    },
    {
     "name": "stdout",
     "output_type": "stream",
     "text": [
      "Exclude track due to different sample rate  E:\\unzip_multitrack\\The_Hardest_Part\n",
      "Exclude track due to different sample rate  E:\\unzip_multitrack\\The_Last_Stand\n",
      "Exclude track due to different sample rate  E:\\unzip_multitrack\\The_Things_We_Do_For_Love\n"
     ]
    },
    {
     "name": "stderr",
     "output_type": "stream",
     "text": [
      "468it [00:05, 79.98it/s]"
     ]
    },
    {
     "name": "stdout",
     "output_type": "stream",
     "text": [
      "Exclude track due to different sample rate  E:\\unzip_multitrack\\Tip_Toe_Through_The_Crypto\n"
     ]
    },
    {
     "name": "stderr",
     "output_type": "stream",
     "text": [
      "\r",
      "477it [00:05, 77.81it/s]"
     ]
    },
    {
     "name": "stdout",
     "output_type": "stream",
     "text": [
      "Exclude track due to different sample rate  E:\\unzip_multitrack\\Two_Bare_Hands\n"
     ]
    },
    {
     "name": "stderr",
     "output_type": "stream",
     "text": [
      "506it [00:06, 83.28it/s]\n"
     ]
    },
    {
     "name": "stdout",
     "output_type": "stream",
     "text": [
      "Exclude track due to different sample rate  E:\\unzip_multitrack\\You_Don't_Know\n",
      "percussion\n",
      "D\n"
     ]
    },
    {
     "ename": "KeyError",
     "evalue": "'D'",
     "output_type": "error",
     "traceback": [
      "\u001b[1;31m-------------------------------------------------------------------------\u001b[0m",
      "\u001b[1;31mKeyError\u001b[0m                                Traceback (most recent call last)",
      "\u001b[1;32m~\\.conda\\envs\\xumx\\lib\\site-packages\\pandas\\core\\indexes\\base.py\u001b[0m in \u001b[0;36mget_loc\u001b[1;34m(self, key, method, tolerance)\u001b[0m\n\u001b[0;32m   3360\u001b[0m             \u001b[1;32mtry\u001b[0m\u001b[1;33m:\u001b[0m\u001b[1;33m\u001b[0m\u001b[1;33m\u001b[0m\u001b[0m\n\u001b[1;32m-> 3361\u001b[1;33m                 \u001b[1;32mreturn\u001b[0m \u001b[0mself\u001b[0m\u001b[1;33m.\u001b[0m\u001b[0m_engine\u001b[0m\u001b[1;33m.\u001b[0m\u001b[0mget_loc\u001b[0m\u001b[1;33m(\u001b[0m\u001b[0mcasted_key\u001b[0m\u001b[1;33m)\u001b[0m\u001b[1;33m\u001b[0m\u001b[1;33m\u001b[0m\u001b[0m\n\u001b[0m\u001b[0;32m   3362\u001b[0m             \u001b[1;32mexcept\u001b[0m \u001b[0mKeyError\u001b[0m \u001b[1;32mas\u001b[0m \u001b[0merr\u001b[0m\u001b[1;33m:\u001b[0m\u001b[1;33m\u001b[0m\u001b[1;33m\u001b[0m\u001b[0m\n",
      "\u001b[1;32m~\\.conda\\envs\\xumx\\lib\\site-packages\\pandas\\_libs\\index.pyx\u001b[0m in \u001b[0;36mpandas._libs.index.IndexEngine.get_loc\u001b[1;34m()\u001b[0m\n",
      "\u001b[1;32m~\\.conda\\envs\\xumx\\lib\\site-packages\\pandas\\_libs\\index.pyx\u001b[0m in \u001b[0;36mpandas._libs.index.IndexEngine.get_loc\u001b[1;34m()\u001b[0m\n",
      "\u001b[1;32mpandas\\_libs\\hashtable_class_helper.pxi\u001b[0m in \u001b[0;36mpandas._libs.hashtable.PyObjectHashTable.get_item\u001b[1;34m()\u001b[0m\n",
      "\u001b[1;32mpandas\\_libs\\hashtable_class_helper.pxi\u001b[0m in \u001b[0;36mpandas._libs.hashtable.PyObjectHashTable.get_item\u001b[1;34m()\u001b[0m\n",
      "\u001b[1;31mKeyError\u001b[0m: 'D'",
      "\nThe above exception was the direct cause of the following exception:\n",
      "\u001b[1;31mKeyError\u001b[0m                                Traceback (most recent call last)",
      "\u001b[1;32mC:\\Users\\HUICHE~1\\AppData\\Local\\Temp/ipykernel_8956/4283831212.py\u001b[0m in \u001b[0;36m<module>\u001b[1;34m\u001b[0m\n\u001b[1;32m----> 1\u001b[1;33m train_dataset = MS_21Dataset( \n\u001b[0m\u001b[0;32m      2\u001b[0m     \u001b[0mcsv_file_path\u001b[0m \u001b[1;33m=\u001b[0m \u001b[1;34m'D:\\smc_master_thesis_2021\\MTG_2021_MASTER_THESIS\\mixing_secret_dataset_modified.csv'\u001b[0m\u001b[1;33m,\u001b[0m\u001b[1;33m\u001b[0m\u001b[1;33m\u001b[0m\u001b[0m\n\u001b[0;32m      3\u001b[0m     \u001b[0mtargets\u001b[0m \u001b[1;33m=\u001b[0m \u001b[1;34m'vocals'\u001b[0m\u001b[1;33m,\u001b[0m\u001b[1;33m\u001b[0m\u001b[1;33m\u001b[0m\u001b[0m\n\u001b[0;32m      4\u001b[0m     \u001b[0mroot\u001b[0m \u001b[1;33m=\u001b[0m \u001b[1;34m'E:/unzip_multitrack'\u001b[0m\u001b[1;33m\u001b[0m\u001b[1;33m\u001b[0m\u001b[0m\n\u001b[0;32m      5\u001b[0m     \u001b[1;31m# root = 'E:/musdb18_hq'\u001b[0m\u001b[1;33m\u001b[0m\u001b[1;33m\u001b[0m\u001b[1;33m\u001b[0m\u001b[0m\n",
      "\u001b[1;32mC:\\Users\\HUICHE~1\\AppData\\Local\\Temp/ipykernel_8956/395377971.py\u001b[0m in \u001b[0;36m__init__\u001b[1;34m(self, root, csv_file_path, grouping_info, sources, targets, suffix, split, subset, segment, samples_per_track, random_segments, random_track_mix, source_augmentations, sample_rate)\u001b[0m\n\u001b[0;32m    130\u001b[0m         \u001b[1;32mif\u001b[0m \u001b[1;32mnot\u001b[0m \u001b[0mself\u001b[0m\u001b[1;33m.\u001b[0m\u001b[0mtracks\u001b[0m\u001b[1;33m:\u001b[0m\u001b[1;33m\u001b[0m\u001b[1;33m\u001b[0m\u001b[0m\n\u001b[0;32m    131\u001b[0m             \u001b[1;32mraise\u001b[0m \u001b[0mRuntimeError\u001b[0m\u001b[1;33m(\u001b[0m\u001b[1;34m\"No tracks found.\"\u001b[0m\u001b[1;33m)\u001b[0m\u001b[1;33m\u001b[0m\u001b[1;33m\u001b[0m\u001b[0m\n\u001b[1;32m--> 132\u001b[1;33m         \u001b[0mself\u001b[0m\u001b[1;33m.\u001b[0m\u001b[0m__getitem__\u001b[0m\u001b[1;33m(\u001b[0m\u001b[0mindex\u001b[0m \u001b[1;33m=\u001b[0m \u001b[1;36m1\u001b[0m\u001b[1;33m)\u001b[0m\u001b[1;33m\u001b[0m\u001b[1;33m\u001b[0m\u001b[0m\n\u001b[0m\u001b[0;32m    133\u001b[0m \u001b[1;33m\u001b[0m\u001b[0m\n\u001b[0;32m    134\u001b[0m     \u001b[1;32mdef\u001b[0m \u001b[0m__getitem__\u001b[0m\u001b[1;33m(\u001b[0m\u001b[0mself\u001b[0m\u001b[1;33m,\u001b[0m \u001b[0mindex\u001b[0m\u001b[1;33m)\u001b[0m\u001b[1;33m:\u001b[0m\u001b[1;33m\u001b[0m\u001b[1;33m\u001b[0m\u001b[0m\n",
      "\u001b[1;32mC:\\Users\\HUICHE~1\\AppData\\Local\\Temp/ipykernel_8956/395377971.py\u001b[0m in \u001b[0;36m__getitem__\u001b[1;34m(self, index)\u001b[0m\n\u001b[0;32m    184\u001b[0m                     \u001b[1;32mfor\u001b[0m \u001b[0mm\u001b[0m \u001b[1;32min\u001b[0m \u001b[0mj\u001b[0m\u001b[1;33m:\u001b[0m\u001b[1;33m\u001b[0m\u001b[1;33m\u001b[0m\u001b[0m\n\u001b[0;32m    185\u001b[0m                         \u001b[0mprint\u001b[0m\u001b[1;33m(\u001b[0m\u001b[0mm\u001b[0m\u001b[1;33m)\u001b[0m\u001b[1;33m\u001b[0m\u001b[1;33m\u001b[0m\u001b[0m\n\u001b[1;32m--> 186\u001b[1;33m                         \u001b[0mstem_tracks\u001b[0m\u001b[1;33m.\u001b[0m\u001b[0mappend\u001b[0m\u001b[1;33m(\u001b[0m\u001b[0mself\u001b[0m\u001b[1;33m.\u001b[0m\u001b[0mcsv_info\u001b[0m\u001b[1;33m.\u001b[0m\u001b[0miloc\u001b[0m\u001b[1;33m[\u001b[0m\u001b[0mtrack_id\u001b[0m\u001b[1;33m]\u001b[0m\u001b[1;33m[\u001b[0m\u001b[0mm\u001b[0m\u001b[1;33m]\u001b[0m\u001b[1;33m)\u001b[0m\u001b[1;33m\u001b[0m\u001b[1;33m\u001b[0m\u001b[0m\n\u001b[0m\u001b[0;32m    187\u001b[0m \u001b[1;33m\u001b[0m\u001b[0m\n\u001b[0;32m    188\u001b[0m                 \u001b[1;31m# apply linear mix within one source (stem) later can intergrate with data augmentation\u001b[0m\u001b[1;33m\u001b[0m\u001b[1;33m\u001b[0m\u001b[1;33m\u001b[0m\u001b[0m\n",
      "\u001b[1;32m~\\.conda\\envs\\xumx\\lib\\site-packages\\pandas\\core\\series.py\u001b[0m in \u001b[0;36m__getitem__\u001b[1;34m(self, key)\u001b[0m\n\u001b[0;32m    940\u001b[0m \u001b[1;33m\u001b[0m\u001b[0m\n\u001b[0;32m    941\u001b[0m         \u001b[1;32melif\u001b[0m \u001b[0mkey_is_scalar\u001b[0m\u001b[1;33m:\u001b[0m\u001b[1;33m\u001b[0m\u001b[1;33m\u001b[0m\u001b[0m\n\u001b[1;32m--> 942\u001b[1;33m             \u001b[1;32mreturn\u001b[0m \u001b[0mself\u001b[0m\u001b[1;33m.\u001b[0m\u001b[0m_get_value\u001b[0m\u001b[1;33m(\u001b[0m\u001b[0mkey\u001b[0m\u001b[1;33m)\u001b[0m\u001b[1;33m\u001b[0m\u001b[1;33m\u001b[0m\u001b[0m\n\u001b[0m\u001b[0;32m    943\u001b[0m \u001b[1;33m\u001b[0m\u001b[0m\n\u001b[0;32m    944\u001b[0m         \u001b[1;32mif\u001b[0m \u001b[0mis_hashable\u001b[0m\u001b[1;33m(\u001b[0m\u001b[0mkey\u001b[0m\u001b[1;33m)\u001b[0m\u001b[1;33m:\u001b[0m\u001b[1;33m\u001b[0m\u001b[1;33m\u001b[0m\u001b[0m\n",
      "\u001b[1;32m~\\.conda\\envs\\xumx\\lib\\site-packages\\pandas\\core\\series.py\u001b[0m in \u001b[0;36m_get_value\u001b[1;34m(self, label, takeable)\u001b[0m\n\u001b[0;32m   1049\u001b[0m \u001b[1;33m\u001b[0m\u001b[0m\n\u001b[0;32m   1050\u001b[0m         \u001b[1;31m# Similar to Index.get_value, but we do not fall back to positional\u001b[0m\u001b[1;33m\u001b[0m\u001b[1;33m\u001b[0m\u001b[1;33m\u001b[0m\u001b[0m\n\u001b[1;32m-> 1051\u001b[1;33m         \u001b[0mloc\u001b[0m \u001b[1;33m=\u001b[0m \u001b[0mself\u001b[0m\u001b[1;33m.\u001b[0m\u001b[0mindex\u001b[0m\u001b[1;33m.\u001b[0m\u001b[0mget_loc\u001b[0m\u001b[1;33m(\u001b[0m\u001b[0mlabel\u001b[0m\u001b[1;33m)\u001b[0m\u001b[1;33m\u001b[0m\u001b[1;33m\u001b[0m\u001b[0m\n\u001b[0m\u001b[0;32m   1052\u001b[0m         \u001b[1;32mreturn\u001b[0m \u001b[0mself\u001b[0m\u001b[1;33m.\u001b[0m\u001b[0mindex\u001b[0m\u001b[1;33m.\u001b[0m\u001b[0m_get_values_for_loc\u001b[0m\u001b[1;33m(\u001b[0m\u001b[0mself\u001b[0m\u001b[1;33m,\u001b[0m \u001b[0mloc\u001b[0m\u001b[1;33m,\u001b[0m \u001b[0mlabel\u001b[0m\u001b[1;33m)\u001b[0m\u001b[1;33m\u001b[0m\u001b[1;33m\u001b[0m\u001b[0m\n\u001b[0;32m   1053\u001b[0m \u001b[1;33m\u001b[0m\u001b[0m\n",
      "\u001b[1;32m~\\.conda\\envs\\xumx\\lib\\site-packages\\pandas\\core\\indexes\\base.py\u001b[0m in \u001b[0;36mget_loc\u001b[1;34m(self, key, method, tolerance)\u001b[0m\n\u001b[0;32m   3361\u001b[0m                 \u001b[1;32mreturn\u001b[0m \u001b[0mself\u001b[0m\u001b[1;33m.\u001b[0m\u001b[0m_engine\u001b[0m\u001b[1;33m.\u001b[0m\u001b[0mget_loc\u001b[0m\u001b[1;33m(\u001b[0m\u001b[0mcasted_key\u001b[0m\u001b[1;33m)\u001b[0m\u001b[1;33m\u001b[0m\u001b[1;33m\u001b[0m\u001b[0m\n\u001b[0;32m   3362\u001b[0m             \u001b[1;32mexcept\u001b[0m \u001b[0mKeyError\u001b[0m \u001b[1;32mas\u001b[0m \u001b[0merr\u001b[0m\u001b[1;33m:\u001b[0m\u001b[1;33m\u001b[0m\u001b[1;33m\u001b[0m\u001b[0m\n\u001b[1;32m-> 3363\u001b[1;33m                 \u001b[1;32mraise\u001b[0m \u001b[0mKeyError\u001b[0m\u001b[1;33m(\u001b[0m\u001b[0mkey\u001b[0m\u001b[1;33m)\u001b[0m \u001b[1;32mfrom\u001b[0m \u001b[0merr\u001b[0m\u001b[1;33m\u001b[0m\u001b[1;33m\u001b[0m\u001b[0m\n\u001b[0m\u001b[0;32m   3364\u001b[0m \u001b[1;33m\u001b[0m\u001b[0m\n\u001b[0;32m   3365\u001b[0m         \u001b[1;32mif\u001b[0m \u001b[0mis_scalar\u001b[0m\u001b[1;33m(\u001b[0m\u001b[0mkey\u001b[0m\u001b[1;33m)\u001b[0m \u001b[1;32mand\u001b[0m \u001b[0misna\u001b[0m\u001b[1;33m(\u001b[0m\u001b[0mkey\u001b[0m\u001b[1;33m)\u001b[0m \u001b[1;32mand\u001b[0m \u001b[1;32mnot\u001b[0m \u001b[0mself\u001b[0m\u001b[1;33m.\u001b[0m\u001b[0mhasnans\u001b[0m\u001b[1;33m:\u001b[0m\u001b[1;33m\u001b[0m\u001b[1;33m\u001b[0m\u001b[0m\n",
      "\u001b[1;31mKeyError\u001b[0m: 'D'"
     ]
    }
   ],
   "source": [
    "train_dataset = MS_21Dataset( \n",
    "    csv_file_path = 'D:\\smc_master_thesis_2021\\MTG_2021_MASTER_THESIS\\mixing_secret_dataset_modified.csv',\n",
    "    targets = 'vocals',\n",
    "    root = 'E:/unzip_multitrack'\n",
    "    # root = 'E:/musdb18_hq'\n",
    ")"
   ]
  },
  {
   "cell_type": "code",
   "execution_count": 76,
   "id": "a31426bc",
   "metadata": {},
   "outputs": [
    {
     "data": {
      "text/plain": [
       "\"['01_KickMic1.wav', '02_KickMic2.wav', '03_KickMic3.wav']\""
      ]
     },
     "execution_count": 76,
     "metadata": {},
     "output_type": "execute_result"
    }
   ],
   "source": [
    "train_dataset.csv_info.iloc[0]['Drum_Kick']"
   ]
  },
  {
   "cell_type": "markdown",
   "id": "37f3de25",
   "metadata": {},
   "source": [
    "# Original musdb18_dataset.py"
   ]
  },
  {
   "cell_type": "code",
   "execution_count": null,
   "id": "bcd5e75c",
   "metadata": {},
   "outputs": [],
   "source": [
    "from pathlib import Path\n",
    "import torch.utils.data\n",
    "import random\n",
    "import torch\n",
    "import tqdm\n",
    "import soundfile as sf\n",
    "# import musedb\n",
    "\n",
    "class MUSDB18Dataset(torch.utils.data.Dataset):\n",
    "    \"\"\"MUSDB18 music separation dataset\n",
    "\n",
    "    The dataset consists of 150 full lengths music tracks (~10h duration) of\n",
    "    different genres along with their isolated stems:\n",
    "        `drums`, `bass`, `vocals` and `others`.\n",
    "\n",
    "    Out-of-the-box, asteroid does only support MUSDB18-HQ which comes as\n",
    "    uncompressed WAV files. To use the MUSDB18, please convert it to WAV first:\n",
    "\n",
    "    - MUSDB18 HQ: https://zenodo.org/record/3338373\n",
    "    - MUSDB18     https://zenodo.org/record/1117372\n",
    "\n",
    "    .. note::\n",
    "        The datasets are hosted on Zenodo and require that users\n",
    "        request access, since the tracks can only be used for academic purposes.\n",
    "        We manually check this requests.\n",
    "\n",
    "    This dataset asssumes music tracks in (sub)folders where each folder\n",
    "    has a fixed number of sources (defaults to 4). For each track, a list\n",
    "    of `sources` and a common `suffix` can be specified.\n",
    "    A linear mix is performed on the fly by summing up the sources\n",
    "\n",
    "    Due to the fact that all tracks comprise the exact same set\n",
    "    of sources, random track mixing can be used can be used,\n",
    "    where sources from different tracks are mixed together.\n",
    "\n",
    "    Folder Structure:\n",
    "        >>> #train/1/vocals.wav ---------|\n",
    "        >>> #train/1/drums.wav ----------+--> input (mix), output[target]\n",
    "        >>> #train/1/bass.wav -----------|\n",
    "        >>> #train/1/other.wav ---------/\n",
    "\n",
    "    Args:\n",
    "        root (str): Root path of dataset\n",
    "        sources (:obj:`list` of :obj:`str`, optional): List of source names\n",
    "            that composes the mixture.\n",
    "            Defaults to MUSDB18 4 stem scenario: `vocals`, `drums`, `bass`, `other`.\n",
    "        targets (list or None, optional): List of source names to be used as\n",
    "            targets. If None, a dict with the 4 stems is returned.\n",
    "             If e.g [`vocals`, `drums`], a tensor with stacked `vocals` and\n",
    "             `drums` is returned instead of a dict. Defaults to None.\n",
    "        suffix (str, optional): Filename suffix, defaults to `.wav`.\n",
    "        split (str, optional): Dataset subfolder, defaults to `train`.\n",
    "        subset (:obj:`list` of :obj:`str`, optional): Selects a specific of\n",
    "            list of tracks to be loaded, defaults to `None` (loads all tracks).\n",
    "        segment (float, optional): Duration of segments in seconds,\n",
    "            defaults to ``None`` which loads the full-length audio tracks.\n",
    "        samples_per_track (int, optional):\n",
    "            Number of samples yielded from each track, can be used to increase\n",
    "            dataset size, defaults to `1`.\n",
    "        random_segments (boolean, optional): Enables random offset for track segments.\n",
    "        random_track_mix boolean: enables mixing of random sources from\n",
    "            different tracks to assemble mix.\n",
    "        source_augmentations (:obj:`list` of :obj:`callable`): list of augmentation\n",
    "            function names, defaults to no-op augmentations (input = output)\n",
    "        sample_rate (int, optional): Samplerate of files in dataset.\n",
    "\n",
    "    Attributes:\n",
    "        root (str): Root path of dataset\n",
    "        sources (:obj:`list` of :obj:`str`, optional): List of source names.\n",
    "            Defaults to MUSDB18 4 stem scenario: `vocals`, `drums`, `bass`, `other`.\n",
    "        suffix (str, optional): Filename suffix, defaults to `.wav`.\n",
    "        split (str, optional): Dataset subfolder, defaults to `train`.\n",
    "        subset (:obj:`list` of :obj:`str`, optional): Selects a specific of\n",
    "            list of tracks to be loaded, defaults to `None` (loads all tracks).\n",
    "        segment (float, optional): Duration of segments in seconds,\n",
    "            defaults to ``None`` which loads the full-length audio tracks.\n",
    "        samples_per_track (int, optional):\n",
    "            Number of samples yielded from each track, can be used to increase\n",
    "            dataset size, defaults to `1`.\n",
    "        random_segments (boolean, optional): Enables random offset for track segments.\n",
    "        random_track_mix boolean: enables mixing of random sources from\n",
    "            different tracks to assemble mix.\n",
    "        source_augmentations (:obj:`list` of :obj:`callable`): list of augmentation\n",
    "            function names, defaults to no-op augmentations (input = output)\n",
    "        sample_rate (int, optional): Samplerate of files in dataset.\n",
    "        tracks (:obj:`list` of :obj:`Dict`): List of track metadata\n",
    "\n",
    "    References\n",
    "        \"The 2018 Signal Separation Evaluation Campaign\" Stoter et al. 2018.\n",
    "    \"\"\"\n",
    "\n",
    "    dataset_name = \"MUSDB18\"\n",
    "\n",
    "    def __init__(\n",
    "        self,\n",
    "        root,\n",
    "        sources=[\"vocals\", \"bass\", \"drums\", \"other\"],\n",
    "        targets=None,\n",
    "        suffix=\".wav\",\n",
    "        split=\"train\",\n",
    "        subset=None,\n",
    "        segment=None,\n",
    "        samples_per_track=1,\n",
    "        random_segments=False,\n",
    "        random_track_mix=False,\n",
    "        source_augmentations=lambda audio: audio,\n",
    "        sample_rate=44100,\n",
    "    ):\n",
    "\n",
    "        self.root = Path(root).expanduser()\n",
    "        self.split = split\n",
    "        self.sample_rate = sample_rate\n",
    "        self.segment = segment\n",
    "        self.random_track_mix = random_track_mix\n",
    "        self.random_segments = random_segments\n",
    "        self.source_augmentations = source_augmentations\n",
    "        self.sources = sources\n",
    "        self.targets = targets\n",
    "        self.suffix = suffix\n",
    "        self.subset = subset\n",
    "        self.samples_per_track = samples_per_track\n",
    "        self.tracks = list(self.get_tracks())\n",
    "        if not self.tracks:\n",
    "            raise RuntimeError(\"No tracks found.\")\n",
    "\n",
    "    def __getitem__(self, index):\n",
    "        # assemble the mixture of target and interferers\n",
    "        audio_sources = {}\n",
    "\n",
    "        # get track_id\n",
    "        track_id = index // self.samples_per_track\n",
    "        if self.random_segments:\n",
    "            start = random.uniform(0, self.tracks[track_id][\"min_duration\"] - self.segment)\n",
    "        else:\n",
    "            start = 0\n",
    "\n",
    "        # load sources\n",
    "        for source in self.sources:\n",
    "            # optionally select a random track for each source\n",
    "            if self.random_track_mix:\n",
    "                # load a different track\n",
    "                track_id = random.choice(range(len(self.tracks)))\n",
    "                if self.random_segments:\n",
    "                    start = random.uniform(0, self.tracks[track_id][\"min_duration\"] - self.segment)\n",
    "\n",
    "            # loads the full track duration\n",
    "            start_sample = int(start * self.sample_rate)\n",
    "            # check if dur is none\n",
    "            if self.segment:\n",
    "                # stop in soundfile is calc in samples, not seconds\n",
    "                stop_sample = start_sample + int(self.segment * self.sample_rate)\n",
    "            else:\n",
    "                # set to None for reading complete file\n",
    "                stop_sample = None\n",
    "\n",
    "            # load actual audio\n",
    "            audio, _ = sf.read(\n",
    "                Path(self.tracks[track_id][\"path\"] / source).with_suffix(self.suffix),\n",
    "                always_2d=True,\n",
    "                start=start_sample,\n",
    "                stop=stop_sample,\n",
    "            )\n",
    "            # convert to torch tensor\n",
    "            audio = torch.tensor(audio.T, dtype=torch.float)\n",
    "            # apply source-wise augmentations\n",
    "            audio = self.source_augmentations(audio)\n",
    "            audio_sources[source] = audio\n",
    "\n",
    "        # apply linear mix over source index=0\n",
    "        audio_mix = torch.stack(list(audio_sources.values())).sum(0)\n",
    "        if self.targets:\n",
    "            audio_sources = torch.stack(\n",
    "                [wav for src, wav in audio_sources.items() if src in self.targets], dim=0\n",
    "            )\n",
    "        return audio_mix, audio_sources\n",
    "\n",
    "    def __len__(self):\n",
    "        return len(self.tracks) * self.samples_per_track\n",
    "\n",
    "    def get_tracks(self):\n",
    "        \"\"\"Loads input and output tracks\"\"\"\n",
    "        p = Path(self.root, self.split)\n",
    "        \n",
    "        for track_path in tqdm.tqdm(p.iterdir()):\n",
    "            if track_path.is_dir():\n",
    "                if self.subset and track_path.stem not in self.subset:\n",
    "                    # skip this track\n",
    "                    continue\n",
    "\n",
    "                source_paths = [track_path / (s + self.suffix) for s in self.sources]\n",
    "                if not all(sp.exists() for sp in source_paths):\n",
    "                    print(\"Exclude track due to non-existing source\", track_path)\n",
    "                    continue\n",
    "\n",
    "                # get metadata\n",
    "                infos = list(map(sf.info, source_paths))\n",
    "                if not all(i.samplerate == self.sample_rate for i in infos):\n",
    "                    print(\"Exclude track due to different sample rate \", track_path)\n",
    "                    continue\n",
    "\n",
    "                if self.segment is not None:\n",
    "                    # get minimum duration of track\n",
    "                    min_duration = min(i.duration for i in infos)\n",
    "                    if min_duration > self.segment:\n",
    "                        yield ({\"path\": track_path, \"min_duration\": min_duration})\n",
    "                else:\n",
    "                    yield ({\"path\": track_path, \"min_duration\": None})\n",
    "\n",
    "    def get_infos(self):\n",
    "        \"\"\"Get dataset infos (for publishing models).\n",
    "\n",
    "        Returns:\n",
    "            dict, dataset infos with keys `dataset`, `task` and `licences`.\n",
    "        \"\"\"\n",
    "        infos = dict()\n",
    "        infos[\"dataset\"] = self.dataset_name\n",
    "        infos[\"task\"] = \"enhancement\"\n",
    "        infos[\"licenses\"] = [musdb_license]\n",
    "        return infos\n",
    "\n",
    "\n",
    "musdb_license = dict()\n"
   ]
  }
 ],
 "metadata": {
  "kernelspec": {
   "display_name": "Python 3 (ipykernel)",
   "language": "python",
   "name": "python3"
  },
  "language_info": {
   "codemirror_mode": {
    "name": "ipython",
    "version": 3
   },
   "file_extension": ".py",
   "mimetype": "text/x-python",
   "name": "python",
   "nbconvert_exporter": "python",
   "pygments_lexer": "ipython3",
   "version": "3.8.0"
  }
 },
 "nbformat": 4,
 "nbformat_minor": 5
}
